{
  "nbformat": 4,
  "nbformat_minor": 0,
  "metadata": {
    "colab": {
      "provenance": [],
      "authorship_tag": "ABX9TyMiD05F4eDL87Eq7hlUlzvm",
      "include_colab_link": true
    },
    "kernelspec": {
      "name": "python3",
      "display_name": "Python 3"
    },
    "language_info": {
      "name": "python"
    }
  },
  "cells": [
    {
      "cell_type": "markdown",
      "metadata": {
        "id": "view-in-github",
        "colab_type": "text"
      },
      "source": [
        "<a href=\"https://colab.research.google.com/github/PrathamVashisht26/Machine-Learning-Project/blob/main/Project_1.ipynb\" target=\"_parent\"><img src=\"https://colab.research.google.com/assets/colab-badge.svg\" alt=\"Open In Colab\"/></a>"
      ]
    },
    {
      "cell_type": "code",
      "execution_count": 2,
      "metadata": {
        "colab": {
          "base_uri": "https://localhost:8080/"
        },
        "id": "FPkV8uxt58Eh",
        "outputId": "367eac07-51b4-4716-b0a0-3e6f6a815535"
      },
      "outputs": [
        {
          "output_type": "stream",
          "name": "stdout",
          "text": [
            "<class 'pandas.core.frame.DataFrame'>\n",
            "RangeIndex: 10178 entries, 0 to 10177\n",
            "Data columns (total 12 columns):\n",
            " #   Column      Non-Null Count  Dtype  \n",
            "---  ------      --------------  -----  \n",
            " 0   names       10178 non-null  object \n",
            " 1   date_x      10178 non-null  object \n",
            " 2   score       10178 non-null  float64\n",
            " 3   genre       10093 non-null  object \n",
            " 4   overview    10178 non-null  object \n",
            " 5   crew        10122 non-null  object \n",
            " 6   orig_title  10178 non-null  object \n",
            " 7   status      10178 non-null  object \n",
            " 8   orig_lang   10178 non-null  object \n",
            " 9   budget_x    10178 non-null  float64\n",
            " 10  revenue     10178 non-null  float64\n",
            " 11  country     10178 non-null  object \n",
            "dtypes: float64(3), object(9)\n",
            "memory usage: 954.3+ KB\n"
          ]
        }
      ],
      "source": [
        "import pandas as pd\n",
        "import numpy as np\n",
        "mv_data = pd.read_csv('imdb_movies.csv')\n",
        "mv_data.info()"
      ]
    },
    {
      "cell_type": "code",
      "source": [
        "mv_data.head()"
      ],
      "metadata": {
        "id": "ypyyjQ_i8Z0p",
        "colab": {
          "base_uri": "https://localhost:8080/",
          "height": 625
        },
        "outputId": "f8c7711a-30f6-4ee4-9ed1-d8720e762fc5"
      },
      "execution_count": 3,
      "outputs": [
        {
          "output_type": "execute_result",
          "data": {
            "text/plain": [
              "                         names       date_x  score  \\\n",
              "0                    Creed III  03/02/2023    73.0   \n",
              "1     Avatar: The Way of Water  12/15/2022    78.0   \n",
              "2  The Super Mario Bros. Movie  04/05/2023    76.0   \n",
              "3                      Mummies  01/05/2023    70.0   \n",
              "4                    Supercell  03/17/2023    61.0   \n",
              "\n",
              "                                           genre  \\\n",
              "0                                  Drama, Action   \n",
              "1             Science Fiction, Adventure, Action   \n",
              "2  Animation, Adventure, Family, Fantasy, Comedy   \n",
              "3  Animation, Comedy, Family, Adventure, Fantasy   \n",
              "4                                         Action   \n",
              "\n",
              "                                            overview  \\\n",
              "0  After dominating the boxing world, Adonis Cree...   \n",
              "1  Set more than a decade after the events of the...   \n",
              "2  While working underground to fix a water main,...   \n",
              "3  Through a series of unfortunate events, three ...   \n",
              "4  Good-hearted teenager William always lived in ...   \n",
              "\n",
              "                                                crew  \\\n",
              "0  Michael B. Jordan, Adonis Creed, Tessa Thompso...   \n",
              "1  Sam Worthington, Jake Sully, Zoe Saldaña, Neyt...   \n",
              "2  Chris Pratt, Mario (voice), Anya Taylor-Joy, P...   \n",
              "3  Óscar Barberán, Thut (voice), Ana Esther Albor...   \n",
              "4  Skeet Ulrich, Roy Cameron, Anne Heche, Dr Quin...   \n",
              "\n",
              "                    orig_title     status            orig_lang     budget_x  \\\n",
              "0                    Creed III   Released              English   75000000.0   \n",
              "1     Avatar: The Way of Water   Released              English  460000000.0   \n",
              "2  The Super Mario Bros. Movie   Released              English  100000000.0   \n",
              "3                       Momias   Released   Spanish, Castilian   12300000.0   \n",
              "4                    Supercell   Released              English   77000000.0   \n",
              "\n",
              "        revenue country  \n",
              "0  2.716167e+08      AU  \n",
              "1  2.316795e+09      AU  \n",
              "2  7.244590e+08      AU  \n",
              "3  3.420000e+07      AU  \n",
              "4  3.409420e+08      US  "
            ],
            "text/html": [
              "\n",
              "  <div id=\"df-5634e342-8469-4eab-8ded-3b3df4957e41\" class=\"colab-df-container\">\n",
              "    <div>\n",
              "<style scoped>\n",
              "    .dataframe tbody tr th:only-of-type {\n",
              "        vertical-align: middle;\n",
              "    }\n",
              "\n",
              "    .dataframe tbody tr th {\n",
              "        vertical-align: top;\n",
              "    }\n",
              "\n",
              "    .dataframe thead th {\n",
              "        text-align: right;\n",
              "    }\n",
              "</style>\n",
              "<table border=\"1\" class=\"dataframe\">\n",
              "  <thead>\n",
              "    <tr style=\"text-align: right;\">\n",
              "      <th></th>\n",
              "      <th>names</th>\n",
              "      <th>date_x</th>\n",
              "      <th>score</th>\n",
              "      <th>genre</th>\n",
              "      <th>overview</th>\n",
              "      <th>crew</th>\n",
              "      <th>orig_title</th>\n",
              "      <th>status</th>\n",
              "      <th>orig_lang</th>\n",
              "      <th>budget_x</th>\n",
              "      <th>revenue</th>\n",
              "      <th>country</th>\n",
              "    </tr>\n",
              "  </thead>\n",
              "  <tbody>\n",
              "    <tr>\n",
              "      <th>0</th>\n",
              "      <td>Creed III</td>\n",
              "      <td>03/02/2023</td>\n",
              "      <td>73.0</td>\n",
              "      <td>Drama, Action</td>\n",
              "      <td>After dominating the boxing world, Adonis Cree...</td>\n",
              "      <td>Michael B. Jordan, Adonis Creed, Tessa Thompso...</td>\n",
              "      <td>Creed III</td>\n",
              "      <td>Released</td>\n",
              "      <td>English</td>\n",
              "      <td>75000000.0</td>\n",
              "      <td>2.716167e+08</td>\n",
              "      <td>AU</td>\n",
              "    </tr>\n",
              "    <tr>\n",
              "      <th>1</th>\n",
              "      <td>Avatar: The Way of Water</td>\n",
              "      <td>12/15/2022</td>\n",
              "      <td>78.0</td>\n",
              "      <td>Science Fiction, Adventure, Action</td>\n",
              "      <td>Set more than a decade after the events of the...</td>\n",
              "      <td>Sam Worthington, Jake Sully, Zoe Saldaña, Neyt...</td>\n",
              "      <td>Avatar: The Way of Water</td>\n",
              "      <td>Released</td>\n",
              "      <td>English</td>\n",
              "      <td>460000000.0</td>\n",
              "      <td>2.316795e+09</td>\n",
              "      <td>AU</td>\n",
              "    </tr>\n",
              "    <tr>\n",
              "      <th>2</th>\n",
              "      <td>The Super Mario Bros. Movie</td>\n",
              "      <td>04/05/2023</td>\n",
              "      <td>76.0</td>\n",
              "      <td>Animation, Adventure, Family, Fantasy, Comedy</td>\n",
              "      <td>While working underground to fix a water main,...</td>\n",
              "      <td>Chris Pratt, Mario (voice), Anya Taylor-Joy, P...</td>\n",
              "      <td>The Super Mario Bros. Movie</td>\n",
              "      <td>Released</td>\n",
              "      <td>English</td>\n",
              "      <td>100000000.0</td>\n",
              "      <td>7.244590e+08</td>\n",
              "      <td>AU</td>\n",
              "    </tr>\n",
              "    <tr>\n",
              "      <th>3</th>\n",
              "      <td>Mummies</td>\n",
              "      <td>01/05/2023</td>\n",
              "      <td>70.0</td>\n",
              "      <td>Animation, Comedy, Family, Adventure, Fantasy</td>\n",
              "      <td>Through a series of unfortunate events, three ...</td>\n",
              "      <td>Óscar Barberán, Thut (voice), Ana Esther Albor...</td>\n",
              "      <td>Momias</td>\n",
              "      <td>Released</td>\n",
              "      <td>Spanish, Castilian</td>\n",
              "      <td>12300000.0</td>\n",
              "      <td>3.420000e+07</td>\n",
              "      <td>AU</td>\n",
              "    </tr>\n",
              "    <tr>\n",
              "      <th>4</th>\n",
              "      <td>Supercell</td>\n",
              "      <td>03/17/2023</td>\n",
              "      <td>61.0</td>\n",
              "      <td>Action</td>\n",
              "      <td>Good-hearted teenager William always lived in ...</td>\n",
              "      <td>Skeet Ulrich, Roy Cameron, Anne Heche, Dr Quin...</td>\n",
              "      <td>Supercell</td>\n",
              "      <td>Released</td>\n",
              "      <td>English</td>\n",
              "      <td>77000000.0</td>\n",
              "      <td>3.409420e+08</td>\n",
              "      <td>US</td>\n",
              "    </tr>\n",
              "  </tbody>\n",
              "</table>\n",
              "</div>\n",
              "    <div class=\"colab-df-buttons\">\n",
              "\n",
              "  <div class=\"colab-df-container\">\n",
              "    <button class=\"colab-df-convert\" onclick=\"convertToInteractive('df-5634e342-8469-4eab-8ded-3b3df4957e41')\"\n",
              "            title=\"Convert this dataframe to an interactive table.\"\n",
              "            style=\"display:none;\">\n",
              "\n",
              "  <svg xmlns=\"http://www.w3.org/2000/svg\" height=\"24px\" viewBox=\"0 -960 960 960\">\n",
              "    <path d=\"M120-120v-720h720v720H120Zm60-500h600v-160H180v160Zm220 220h160v-160H400v160Zm0 220h160v-160H400v160ZM180-400h160v-160H180v160Zm440 0h160v-160H620v160ZM180-180h160v-160H180v160Zm440 0h160v-160H620v160Z\"/>\n",
              "  </svg>\n",
              "    </button>\n",
              "\n",
              "  <style>\n",
              "    .colab-df-container {\n",
              "      display:flex;\n",
              "      gap: 12px;\n",
              "    }\n",
              "\n",
              "    .colab-df-convert {\n",
              "      background-color: #E8F0FE;\n",
              "      border: none;\n",
              "      border-radius: 50%;\n",
              "      cursor: pointer;\n",
              "      display: none;\n",
              "      fill: #1967D2;\n",
              "      height: 32px;\n",
              "      padding: 0 0 0 0;\n",
              "      width: 32px;\n",
              "    }\n",
              "\n",
              "    .colab-df-convert:hover {\n",
              "      background-color: #E2EBFA;\n",
              "      box-shadow: 0px 1px 2px rgba(60, 64, 67, 0.3), 0px 1px 3px 1px rgba(60, 64, 67, 0.15);\n",
              "      fill: #174EA6;\n",
              "    }\n",
              "\n",
              "    .colab-df-buttons div {\n",
              "      margin-bottom: 4px;\n",
              "    }\n",
              "\n",
              "    [theme=dark] .colab-df-convert {\n",
              "      background-color: #3B4455;\n",
              "      fill: #D2E3FC;\n",
              "    }\n",
              "\n",
              "    [theme=dark] .colab-df-convert:hover {\n",
              "      background-color: #434B5C;\n",
              "      box-shadow: 0px 1px 3px 1px rgba(0, 0, 0, 0.15);\n",
              "      filter: drop-shadow(0px 1px 2px rgba(0, 0, 0, 0.3));\n",
              "      fill: #FFFFFF;\n",
              "    }\n",
              "  </style>\n",
              "\n",
              "    <script>\n",
              "      const buttonEl =\n",
              "        document.querySelector('#df-5634e342-8469-4eab-8ded-3b3df4957e41 button.colab-df-convert');\n",
              "      buttonEl.style.display =\n",
              "        google.colab.kernel.accessAllowed ? 'block' : 'none';\n",
              "\n",
              "      async function convertToInteractive(key) {\n",
              "        const element = document.querySelector('#df-5634e342-8469-4eab-8ded-3b3df4957e41');\n",
              "        const dataTable =\n",
              "          await google.colab.kernel.invokeFunction('convertToInteractive',\n",
              "                                                    [key], {});\n",
              "        if (!dataTable) return;\n",
              "\n",
              "        const docLinkHtml = 'Like what you see? Visit the ' +\n",
              "          '<a target=\"_blank\" href=https://colab.research.google.com/notebooks/data_table.ipynb>data table notebook</a>'\n",
              "          + ' to learn more about interactive tables.';\n",
              "        element.innerHTML = '';\n",
              "        dataTable['output_type'] = 'display_data';\n",
              "        await google.colab.output.renderOutput(dataTable, element);\n",
              "        const docLink = document.createElement('div');\n",
              "        docLink.innerHTML = docLinkHtml;\n",
              "        element.appendChild(docLink);\n",
              "      }\n",
              "    </script>\n",
              "  </div>\n",
              "\n",
              "\n",
              "    <div id=\"df-afe2d4f1-f738-4026-a282-1dc47401ea70\">\n",
              "      <button class=\"colab-df-quickchart\" onclick=\"quickchart('df-afe2d4f1-f738-4026-a282-1dc47401ea70')\"\n",
              "                title=\"Suggest charts\"\n",
              "                style=\"display:none;\">\n",
              "\n",
              "<svg xmlns=\"http://www.w3.org/2000/svg\" height=\"24px\"viewBox=\"0 0 24 24\"\n",
              "     width=\"24px\">\n",
              "    <g>\n",
              "        <path d=\"M19 3H5c-1.1 0-2 .9-2 2v14c0 1.1.9 2 2 2h14c1.1 0 2-.9 2-2V5c0-1.1-.9-2-2-2zM9 17H7v-7h2v7zm4 0h-2V7h2v10zm4 0h-2v-4h2v4z\"/>\n",
              "    </g>\n",
              "</svg>\n",
              "      </button>\n",
              "\n",
              "<style>\n",
              "  .colab-df-quickchart {\n",
              "      --bg-color: #E8F0FE;\n",
              "      --fill-color: #1967D2;\n",
              "      --hover-bg-color: #E2EBFA;\n",
              "      --hover-fill-color: #174EA6;\n",
              "      --disabled-fill-color: #AAA;\n",
              "      --disabled-bg-color: #DDD;\n",
              "  }\n",
              "\n",
              "  [theme=dark] .colab-df-quickchart {\n",
              "      --bg-color: #3B4455;\n",
              "      --fill-color: #D2E3FC;\n",
              "      --hover-bg-color: #434B5C;\n",
              "      --hover-fill-color: #FFFFFF;\n",
              "      --disabled-bg-color: #3B4455;\n",
              "      --disabled-fill-color: #666;\n",
              "  }\n",
              "\n",
              "  .colab-df-quickchart {\n",
              "    background-color: var(--bg-color);\n",
              "    border: none;\n",
              "    border-radius: 50%;\n",
              "    cursor: pointer;\n",
              "    display: none;\n",
              "    fill: var(--fill-color);\n",
              "    height: 32px;\n",
              "    padding: 0;\n",
              "    width: 32px;\n",
              "  }\n",
              "\n",
              "  .colab-df-quickchart:hover {\n",
              "    background-color: var(--hover-bg-color);\n",
              "    box-shadow: 0 1px 2px rgba(60, 64, 67, 0.3), 0 1px 3px 1px rgba(60, 64, 67, 0.15);\n",
              "    fill: var(--button-hover-fill-color);\n",
              "  }\n",
              "\n",
              "  .colab-df-quickchart-complete:disabled,\n",
              "  .colab-df-quickchart-complete:disabled:hover {\n",
              "    background-color: var(--disabled-bg-color);\n",
              "    fill: var(--disabled-fill-color);\n",
              "    box-shadow: none;\n",
              "  }\n",
              "\n",
              "  .colab-df-spinner {\n",
              "    border: 2px solid var(--fill-color);\n",
              "    border-color: transparent;\n",
              "    border-bottom-color: var(--fill-color);\n",
              "    animation:\n",
              "      spin 1s steps(1) infinite;\n",
              "  }\n",
              "\n",
              "  @keyframes spin {\n",
              "    0% {\n",
              "      border-color: transparent;\n",
              "      border-bottom-color: var(--fill-color);\n",
              "      border-left-color: var(--fill-color);\n",
              "    }\n",
              "    20% {\n",
              "      border-color: transparent;\n",
              "      border-left-color: var(--fill-color);\n",
              "      border-top-color: var(--fill-color);\n",
              "    }\n",
              "    30% {\n",
              "      border-color: transparent;\n",
              "      border-left-color: var(--fill-color);\n",
              "      border-top-color: var(--fill-color);\n",
              "      border-right-color: var(--fill-color);\n",
              "    }\n",
              "    40% {\n",
              "      border-color: transparent;\n",
              "      border-right-color: var(--fill-color);\n",
              "      border-top-color: var(--fill-color);\n",
              "    }\n",
              "    60% {\n",
              "      border-color: transparent;\n",
              "      border-right-color: var(--fill-color);\n",
              "    }\n",
              "    80% {\n",
              "      border-color: transparent;\n",
              "      border-right-color: var(--fill-color);\n",
              "      border-bottom-color: var(--fill-color);\n",
              "    }\n",
              "    90% {\n",
              "      border-color: transparent;\n",
              "      border-bottom-color: var(--fill-color);\n",
              "    }\n",
              "  }\n",
              "</style>\n",
              "\n",
              "      <script>\n",
              "        async function quickchart(key) {\n",
              "          const quickchartButtonEl =\n",
              "            document.querySelector('#' + key + ' button');\n",
              "          quickchartButtonEl.disabled = true;  // To prevent multiple clicks.\n",
              "          quickchartButtonEl.classList.add('colab-df-spinner');\n",
              "          try {\n",
              "            const charts = await google.colab.kernel.invokeFunction(\n",
              "                'suggestCharts', [key], {});\n",
              "          } catch (error) {\n",
              "            console.error('Error during call to suggestCharts:', error);\n",
              "          }\n",
              "          quickchartButtonEl.classList.remove('colab-df-spinner');\n",
              "          quickchartButtonEl.classList.add('colab-df-quickchart-complete');\n",
              "        }\n",
              "        (() => {\n",
              "          let quickchartButtonEl =\n",
              "            document.querySelector('#df-afe2d4f1-f738-4026-a282-1dc47401ea70 button');\n",
              "          quickchartButtonEl.style.display =\n",
              "            google.colab.kernel.accessAllowed ? 'block' : 'none';\n",
              "        })();\n",
              "      </script>\n",
              "    </div>\n",
              "\n",
              "    </div>\n",
              "  </div>\n"
            ],
            "application/vnd.google.colaboratory.intrinsic+json": {
              "type": "dataframe",
              "variable_name": "mv_data",
              "summary": "{\n  \"name\": \"mv_data\",\n  \"rows\": 10178,\n  \"fields\": [\n    {\n      \"column\": \"names\",\n      \"properties\": {\n        \"dtype\": \"string\",\n        \"num_unique_values\": 9660,\n        \"samples\": [\n          \"Dragonheart 3: The Sorcerer's Curse\",\n          \"You Again\",\n          \"Time Trap\"\n        ],\n        \"semantic_type\": \"\",\n        \"description\": \"\"\n      }\n    },\n    {\n      \"column\": \"date_x\",\n      \"properties\": {\n        \"dtype\": \"object\",\n        \"num_unique_values\": 5688,\n        \"samples\": [\n          \"04/09/1987 \",\n          \"12/01/1988 \",\n          \"09/15/2017 \"\n        ],\n        \"semantic_type\": \"\",\n        \"description\": \"\"\n      }\n    },\n    {\n      \"column\": \"score\",\n      \"properties\": {\n        \"dtype\": \"number\",\n        \"std\": 13.537012362477729,\n        \"min\": 0.0,\n        \"max\": 100.0,\n        \"num_unique_values\": 79,\n        \"samples\": [\n          43.0,\n          73.0,\n          54.0\n        ],\n        \"semantic_type\": \"\",\n        \"description\": \"\"\n      }\n    },\n    {\n      \"column\": \"genre\",\n      \"properties\": {\n        \"dtype\": \"category\",\n        \"num_unique_values\": 2303,\n        \"samples\": [\n          \"Horror,\\u00a0Drama,\\u00a0Thriller,\\u00a0Fantasy\",\n          \"Fantasy,\\u00a0Horror,\\u00a0Thriller,\\u00a0Drama\",\n          \"Animation,\\u00a0Family,\\u00a0Comedy,\\u00a0Science Fiction,\\u00a0Adventure\"\n        ],\n        \"semantic_type\": \"\",\n        \"description\": \"\"\n      }\n    },\n    {\n      \"column\": \"overview\",\n      \"properties\": {\n        \"dtype\": \"string\",\n        \"num_unique_values\": 9905,\n        \"samples\": [\n          \"Nick Hume is a mild-mannered executive with a perfect life, until one gruesome night he witnesses something that changes him forever. Transformed by grief, Hume eventually comes to the disturbing conclusion that no length is too great when protecting his family.\",\n          \"Control \\u2014 the Commonwealth's covert ops group \\u2014 suspects a double agent within the Kingdom's royal family and dispatches Ange and the rest of \\\"Team White Pigeon\\\" to discover the truth.  The first chapter of six-part film sequels for Princess Principal series.\",\n          \"A rich woman is losing her attractiveness and longs for passion with her husband, who is having an affair with his younger and more attractive masseuse. In order to boost her image, she seeks out the help of a local chef, who cooks some special dumplings which she are claimed to be effective for rejuvenation, but these dumplings hide a terrible secret.\"\n        ],\n        \"semantic_type\": \"\",\n        \"description\": \"\"\n      }\n    },\n    {\n      \"column\": \"crew\",\n      \"properties\": {\n        \"dtype\": \"string\",\n        \"num_unique_values\": 9927,\n        \"samples\": [\n          \"Ed Skrein, Frank Martin Jr., Ray Stevenson, Frank Martin Sr., Loan Chabanol, Anna, Gabriella Wright, Gina, Tatiana Pajkovi\\u0107, Maria, Wenxia Yu, Qiao, Radivoje Bukvi\\u0107, Arkady Karasov, No\\u00e9mie Lenoir, Ma\\u00efssa, Yuri Kolokolnikov, Yuri\",\n          \"Harrison Ford, President James Marshall, Gary Oldman, Ivan Korshunov, Glenn Close, Vice President Kathryn Bennett, Wendy Crewson, Grace Marshall, Liesel Matthews, Alice Marshall, Paul Guilfoyle, Chief of Staff Lloyd 'Shep' Shepherd, Xander Berkeley, Secret Service Agent Gibbs, William H. Macy, Major Caldwell, Dean Stockwell, Defense Secretary Walter Dean\",\n          \"Burl Ives, Sam the Snowman (voice), Billie Mae Richards, Rudolph (voice), Larry D. Mann, Yukon Cornelius (voice), Stan Francis, Santa Claus / King Moonracer (voice), Paul Kligman, Donner / Clarice's Father / Comet the Coach (voice), Janis Orenstein, Clarice (voice), Alfie Scopp, Charlie-in-the-Box / Other Reindeer (voice), Carl Banas, Head Elf / Spotted Elephant / Other Toys (voice), Peg Dixon, Mrs. Donner / Others (voice)\"\n        ],\n        \"semantic_type\": \"\",\n        \"description\": \"\"\n      }\n    },\n    {\n      \"column\": \"orig_title\",\n      \"properties\": {\n        \"dtype\": \"string\",\n        \"num_unique_values\": 9736,\n        \"samples\": [\n          \"Source Code\",\n          \"In the Name of the King 2: Two Worlds\",\n          \"Proud Mary\"\n        ],\n        \"semantic_type\": \"\",\n        \"description\": \"\"\n      }\n    },\n    {\n      \"column\": \"status\",\n      \"properties\": {\n        \"dtype\": \"category\",\n        \"num_unique_values\": 3,\n        \"samples\": [\n          \" Released\",\n          \" Post Production\",\n          \" In Production\"\n        ],\n        \"semantic_type\": \"\",\n        \"description\": \"\"\n      }\n    },\n    {\n      \"column\": \"orig_lang\",\n      \"properties\": {\n        \"dtype\": \"category\",\n        \"num_unique_values\": 54,\n        \"samples\": [\n          \" Danish\",\n          \" Kannada\",\n          \" Gujarati\"\n        ],\n        \"semantic_type\": \"\",\n        \"description\": \"\"\n      }\n    },\n    {\n      \"column\": \"budget_x\",\n      \"properties\": {\n        \"dtype\": \"number\",\n        \"std\": 57075645.27528751,\n        \"min\": 1.0,\n        \"max\": 460000000.0,\n        \"num_unique_values\": 2316,\n        \"samples\": [\n          76104000.0,\n          129800000.0,\n          103600000.0\n        ],\n        \"semantic_type\": \"\",\n        \"description\": \"\"\n      }\n    },\n    {\n      \"column\": \"revenue\",\n      \"properties\": {\n        \"dtype\": \"number\",\n        \"std\": 277788048.78156334,\n        \"min\": 0.0,\n        \"max\": 2923706026.0,\n        \"num_unique_values\": 8227,\n        \"samples\": [\n          110521733.0,\n          162759437.0,\n          14343976.0\n        ],\n        \"semantic_type\": \"\",\n        \"description\": \"\"\n      }\n    },\n    {\n      \"column\": \"country\",\n      \"properties\": {\n        \"dtype\": \"category\",\n        \"num_unique_values\": 60,\n        \"samples\": [\n          \"AU\",\n          \"NO\",\n          \"IE\"\n        ],\n        \"semantic_type\": \"\",\n        \"description\": \"\"\n      }\n    }\n  ]\n}"
            }
          },
          "metadata": {},
          "execution_count": 3
        }
      ]
    },
    {
      "cell_type": "code",
      "source": [
        "# prompt: Using dataframe mv_data: Heat Map\n",
        "\n",
        "import seaborn as sns\n",
        "import matplotlib.pyplot as plt\n",
        "\n",
        "# Assuming you want a heatmap of the correlation between numerical columns\n",
        "# Select only the numerical columns\n",
        "numerical_cols = mv_data.select_dtypes(include=['number'])\n",
        "\n",
        "# Calculate the correlation matrix\n",
        "correlation_matrix = numerical_cols.corr()\n",
        "\n",
        "# Create the heatmap\n",
        "plt.figure(figsize=(12, 10))\n",
        "sns.heatmap(correlation_matrix, annot=True, cmap='coolwarm', fmt=\".2f\")\n",
        "plt.title('Correlation Matrix of Numerical Features')\n",
        "plt.show()"
      ],
      "metadata": {
        "id": "qdxKFlGT89LG"
      },
      "execution_count": null,
      "outputs": []
    },
    {
      "cell_type": "code",
      "source": [
        "mv_data.sample(5)"
      ],
      "metadata": {
        "id": "dKNo5z3lUOQn"
      },
      "execution_count": null,
      "outputs": []
    },
    {
      "cell_type": "code",
      "source": [
        "mv_data.info()"
      ],
      "metadata": {
        "id": "e3LPfX5WbxgD"
      },
      "execution_count": null,
      "outputs": []
    },
    {
      "cell_type": "code",
      "source": [
        "missing_value = mv_data.isnull().sum()\n",
        "print(\"Missing values per column is: \")\n",
        "print(missing_value[missing_value>0])"
      ],
      "metadata": {
        "id": "JpRo_GdhR6jO"
      },
      "execution_count": null,
      "outputs": []
    },
    {
      "cell_type": "code",
      "source": [
        "# prompt: fill the missing values in the genre and crew section with 'unknown'\n",
        "\n",
        "mv_data['genre'] = mv_data['genre'].fillna('unknown')\n",
        "mv_data['crew'] = mv_data['crew'].fillna('unknown')\n"
      ],
      "metadata": {
        "id": "xUptl6poTY_5"
      },
      "execution_count": null,
      "outputs": []
    },
    {
      "cell_type": "code",
      "source": [
        "mv_data['genre'].value_counts()\n",
        "mv_data['orig_lang'].unique()"
      ],
      "metadata": {
        "id": "qyMb4gAITrHc"
      },
      "execution_count": null,
      "outputs": []
    },
    {
      "cell_type": "code",
      "source": [
        "# prompt: how many movies are there in each genre\n",
        "\n",
        "# Group by genre and count the number of movies in each genre\n",
        "genre_counts = mv_data.groupby('genre')['names'].count()\n",
        "\n",
        "# Print the results\n",
        "genre_counts\n"
      ],
      "metadata": {
        "id": "sAc7EhKEUiPt"
      },
      "execution_count": null,
      "outputs": []
    },
    {
      "cell_type": "code",
      "source": [
        "import matplotlib.pyplot as plt\n",
        "import seaborn as sns\n",
        "\n",
        "sns.histplot(mv_data['score'], bins = 20, kde=True)\n",
        "plt.title('Distribution of Movie Scores')\n",
        "plt.xlabel('Score')\n",
        "plt.ylabel('Frequency')\n",
        "plt.show()"
      ],
      "metadata": {
        "id": "jUOkdhEHVAyd"
      },
      "execution_count": null,
      "outputs": []
    },
    {
      "cell_type": "code",
      "source": [
        "sns.scatterplot(x=mv_data['budget_x'], y=mv_data['score'])\n",
        "plt.xlabel('Budget')\n",
        "plt.ylabel('Score')\n",
        "plt.title('Budget vs. Score')\n",
        "plt.show()"
      ],
      "metadata": {
        "id": "yo_G_f3UTVRI"
      },
      "execution_count": null,
      "outputs": []
    },
    {
      "cell_type": "code",
      "source": [
        "mv_data['genre'].value_counts().head(10).plot(kind='bar')\n",
        "plt.title('Top 10 Genres')\n",
        "plt.xlabel('Genre')\n",
        "plt.ylabel('Count')"
      ],
      "metadata": {
        "id": "M9WEmQjvUD6y"
      },
      "execution_count": null,
      "outputs": []
    },
    {
      "cell_type": "markdown",
      "source": [
        "Genre with highest average rating"
      ],
      "metadata": {
        "id": "twUr7vu6UxTp"
      }
    },
    {
      "cell_type": "code",
      "source": [
        "mv_data.groupby('genre')['score'].mean().sort_values(ascending=False)"
      ],
      "metadata": {
        "id": "AFSF8KRaU2yp"
      },
      "execution_count": null,
      "outputs": []
    },
    {
      "cell_type": "code",
      "source": [
        "mv_data['genre'] = mv_data['genre'].apply(lambda x: x.split(', ') if isinstance(x, str) else ['unknown'])"
      ],
      "metadata": {
        "id": "51J-S4gCH8YV"
      },
      "execution_count": null,
      "outputs": []
    },
    {
      "cell_type": "code",
      "source": [
        "# prompt: Write a code in which I can know how in which year most number of movies were released\n",
        "\n",
        "# Convert the 'year' column to datetime objects if it's not already\n",
        "mv_data['date_x'] = pd.to_datetime(mv_data['date_x'], errors='coerce').dt.year\n",
        "\n",
        "# Group by year and count the number of movies released in each year\n",
        "year_counts = mv_data.groupby('date_x')['names'].count()\n",
        "\n",
        "# Find the year with the most movie releases\n",
        "year_with_most_movies = year_counts.idxmax()\n",
        "\n",
        "print(f\"The year with the most movie releases is: {year_with_most_movies}\")\n"
      ],
      "metadata": {
        "id": "I29gcd3qGEMy"
      },
      "execution_count": null,
      "outputs": []
    },
    {
      "cell_type": "code",
      "source": [
        "from sklearn.feature_extraction.text import TfidfVectorizer\n",
        "mv_data['overview'] = mv_data['overview'].fillna('')\n",
        "vectorizer = TfidfVectorizer(stop_words='english', max_features=5000)\n",
        "X = vectorizer.fit_transform(mv_data['overview'])\n",
        "y = mv_data['genre']"
      ],
      "metadata": {
        "id": "d1N-0I1bNkRo"
      },
      "execution_count": null,
      "outputs": []
    },
    {
      "cell_type": "code",
      "source": [
        "\"\"\"from sklearn.model_selection import train_test_split\n",
        "from sklearn.naive_bayes import MultinomialNB\n",
        "from sklearn.metrics import accuracy_score, classification_report\n",
        "\n",
        "X_train, X_test, y_train, y_test = train_test_split(X, y, test_size=0.2, random_state=42)\n",
        "model = MultinomialNB()\n",
        "model.fit(X_train, y_train)\n",
        "\n",
        "y_pred = model.predict(X_test)\n",
        "\n",
        "accuracy = accuracy_score(y_test, y_pred)\n",
        "print(f\"Model Accuracy: {accuracy * 100:.2f}%\")\n",
        "print(classification_report(y_test, y_pred))\n",
        "mv_data['sentiment'] = model.predict(X)\"\"\""
      ],
      "metadata": {
        "id": "XD5KN7U_HYAm"
      },
      "execution_count": null,
      "outputs": []
    },
    {
      "cell_type": "code",
      "source": [
        "from sklearn.preprocessing import MultiLabelBinarizer\n",
        "mlb = MultiLabelBinarizer()\n",
        "y = mlb.fit_transform(mv_data['genre'])"
      ],
      "metadata": {
        "id": "qQcpl12RL3vG"
      },
      "execution_count": null,
      "outputs": []
    },
    {
      "cell_type": "code",
      "source": [
        "from sklearn.ensemble import RandomForestClassifier\n",
        "from sklearn.model_selection import train_test_split\n",
        "from sklearn.metrics import accuracy_score\n",
        "mv_data['budget_scaled'] = mv_data['budget_x']/mv_data['budget_x'].max()\n",
        "X_new = mv_data[['overview', 'budget_scaled']]\n",
        "y_new = mv_data['score']>=7\n",
        "X_train, X_test, y_train, y_test = train_test_split(X_new, y_new, test_size=0.2, random_state=42)\n",
        "model = RandomForestClassifier(n_estimators=100)\n",
        "model.fit(X_train, y_train)\n",
        "y_pred = model.predict(X_test)\n",
        "print(f\"success Prediction Accuracy : , {accuracy_score(y_test, y_pred) * 100:.2f}%\")"
      ],
      "metadata": {
        "id": "1tNA0PsXPM_g"
      },
      "execution_count": null,
      "outputs": []
    }
  ]
}